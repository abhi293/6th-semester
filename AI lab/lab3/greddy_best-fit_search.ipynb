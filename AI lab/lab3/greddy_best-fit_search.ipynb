{
 "cells": [
  {
   "cell_type": "code",
   "execution_count": null,
   "metadata": {},
   "outputs": [],
   "source": [
    "import networkx as nx\n",
    "import matplotlib.pyplot as plt\n",
    "from collections import deque\n",
    "from queue import PriorityQueue\n",
    "\n",
    "def create_graph():\n",
    "    G=nx.Graph()\n",
    "    grid1=[[7,5,3,2,4],\n",
    "           [8,5,5,2,2],\n",
    "           [5,6,2,1,3],\n",
    "           [4,3,3,2,5]]\n",
    "    grid2=[[1,1,0,1,1],\n",
    "           [1,1,1,1,0],\n",
    "           [0,1,0,1,1],\n",
    "           [1,1,1,1,1]]\n",
    "    G.add_edges_from(grid1)\n",
    "    return G\n",
    "\n",
    "if __name__==\"__main__\":\n",
    "    small_graph=create_graph()\n",
    "    start=7\n",
    "    end=1\n",
    "    for i in range (len(small_graph.grid1)):\n",
    "        for j in range (len(small_graph.grid1[i])):\n",
    "            if start==(small_graph.grid1[i][j]):\n",
    "                s=(i,j)\n",
    "            if end==(small_graph.grid1[i][j]):\n",
    "                e=(i,j)"
   ]
  }
 ],
 "metadata": {
  "kernelspec": {
   "display_name": "Python 3",
   "language": "python",
   "name": "python3"
  },
  "language_info": {
   "codemirror_mode": {
    "name": "ipython",
    "version": 3
   },
   "file_extension": ".py",
   "mimetype": "text/x-python",
   "name": "python",
   "nbconvert_exporter": "python",
   "pygments_lexer": "ipython3",
   "version": "3.12.6"
  }
 },
 "nbformat": 4,
 "nbformat_minor": 2
}
