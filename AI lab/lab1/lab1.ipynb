{
 "cells": [
  {
   "cell_type": "code",
   "execution_count": 1,
   "metadata": {
    "colab": {
     "base_uri": "https://localhost:8080/"
    },
    "executionInfo": {
     "elapsed": 375,
     "status": "ok",
     "timestamp": 1734392726215,
     "user": {
      "displayName": "4092_Sujit Sharma",
      "userId": "06192439102614980442"
     },
     "user_tz": -330
    },
    "id": "bQF3TaEqmG7W",
    "outputId": "331f8c0c-ea1e-43e1-8310-de1815f48078"
   },
   "outputs": [
    {
     "name": "stdout",
     "output_type": "stream",
     "text": [
      "BFS Path: [(0, 0), (1, 0), (1, 1), (2, 1), (2, 2), (2, 3), (3, 3)]\n",
      "-----------------------------------------------\n",
      "Name : Abhinav Anand \n",
      "Roll no: 22054011\n",
      "Date : 2025-01-07\n"
     ]
    }
   ],
   "source": [
    "\n",
    "\n",
    "from collections import deque\n",
    "\n",
    "# BFS implementation\n",
    "def bfs(maze, start, end):\n",
    "    rows, cols = len(maze), len(maze[0])\n",
    "    queue = deque([(start, [start])])\n",
    "    visited = set()\n",
    "    visited.add(start)\n",
    "\n",
    "    while queue:\n",
    "        (x, y), path = queue.popleft()\n",
    "\n",
    "        if (x, y) == end:\n",
    "            return path\n",
    "\n",
    "        # Explore neighbors\n",
    "        for dx, dy in [(-1, 0), (1, 0), (0, -1), (0, 1)]:\n",
    "            nx, ny = x + dx, y + dy\n",
    "            if 0 <= nx < rows and 0 <= ny < cols and maze[nx][ny] == 1 and (nx, ny) not in visited:\n",
    "                visited.add((nx, ny))\n",
    "                queue.append(((nx, ny), path + [(nx, ny)]))\n",
    "\n",
    "    return \"No path found\"\n",
    "\n",
    "# Example usage for BFS\n",
    "maze = [\n",
    "    [1, 0, 1, 1, 1],\n",
    "    [1, 1, 0, 1, 0],\n",
    "    [0, 1, 1, 1, 0],\n",
    "    [1, 0, 0, 1, 1],\n",
    "    [1, 1, 1, 0, 1],\n",
    "]\n",
    "start = (0, 0)\n",
    "end = (3, 3)\n",
    "\n",
    "print(\"BFS Path:\", bfs(maze, start, end))\n",
    "print(\"-----------------------------------------------\")\n",
    "print( \"Name : Abhinav Anand \\nRoll no: 22054011\")\n",
    "from datetime import date\n",
    "\n",
    "print(\"Date :\" ,date.today())"
   ]
  },
  {
   "cell_type": "code",
   "execution_count": 2,
   "metadata": {
    "colab": {
     "base_uri": "https://localhost:8080/"
    },
    "executionInfo": {
     "elapsed": 592,
     "status": "ok",
     "timestamp": 1734392761064,
     "user": {
      "displayName": "4092_Sujit Sharma",
      "userId": "06192439102614980442"
     },
     "user_tz": -330
    },
    "id": "ENaYQ4MqnETl",
    "outputId": "995d41bf-689a-4e54-c785-be99e78d80b4"
   },
   "outputs": [
    {
     "name": "stdout",
     "output_type": "stream",
     "text": [
      "DFS Paths: [[(0, 0), (1, 0), (1, 1), (2, 1), (2, 2), (2, 3), (3, 3), (3, 4), (4, 4)]]\n",
      "-----------------------------------------------\n",
      "Name : Abhinav Anand \n",
      "Roll no: 22054011\n",
      "Date : 2025-01-07\n"
     ]
    }
   ],
   "source": [
    "\n",
    "\n",
    "# DFS implementation\n",
    "def dfs(maze, start, end):\n",
    "    rows, cols = len(maze), len(maze[0])\n",
    "    stack = [(start, [start])]\n",
    "    visited = set()\n",
    "    visited.add(start)\n",
    "    all_paths = []\n",
    "\n",
    "    while stack:\n",
    "        (x, y), path = stack.pop()\n",
    "\n",
    "        # Check if the end is reached\n",
    "        if (x, y) == end:\n",
    "            all_paths.append(path)\n",
    "            continue\n",
    "\n",
    "        # Explore neighbors\n",
    "        for dx, dy in [(-1, 0), (1, 0), (0, -1), (0, 1)]:\n",
    "            nx, ny = x + dx, y + dy\n",
    "            if 0 <= nx < rows and 0 <= ny < cols and maze[nx][ny] == 1 and (nx, ny) not in visited:\n",
    "                visited.add((nx, ny))\n",
    "                stack.append(((nx, ny), path + [(nx, ny)]))\n",
    "\n",
    "    return all_paths if all_paths else \"No path found\"\n",
    "\n",
    "# Example usage for DFS\n",
    "maze = [\n",
    "    [1, 0, 1, 1, 1],\n",
    "    [1, 1, 0, 1, 0],\n",
    "    [0, 1, 1, 1, 0],\n",
    "    [1, 0, 0, 1, 1],\n",
    "    [1, 1, 1, 0, 1],\n",
    "]\n",
    "start = (0, 0)\n",
    "end = (4, 4)\n",
    "\n",
    "print(\"DFS Paths:\", dfs(maze, start, end))\n",
    "print(\"-----------------------------------------------\")\n",
    "print( \"Name : Abhinav Anand \\nRoll no: 22054011\")\n",
    "from datetime import date\n",
    "\n",
    "print(\"Date :\" ,date.today())"
   ]
  },
  {
   "cell_type": "markdown",
   "metadata": {
    "id": "itVSZakGvMiH"
   },
   "source": []
  }
 ],
 "metadata": {
  "colab": {
   "authorship_tag": "ABX9TyMQ3R6JBsIbMQqs0utOZTjA",
   "provenance": []
  },
  "kernelspec": {
   "display_name": "Python 3",
   "name": "python3"
  },
  "language_info": {
   "codemirror_mode": {
    "name": "ipython",
    "version": 3
   },
   "file_extension": ".py",
   "mimetype": "text/x-python",
   "name": "python",
   "nbconvert_exporter": "python",
   "pygments_lexer": "ipython3",
   "version": "3.12.6"
  }
 },
 "nbformat": 4,
 "nbformat_minor": 0
}
